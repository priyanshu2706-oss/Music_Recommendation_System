{
 "cells": [
  {
   "cell_type": "code",
   "execution_count": null,
   "id": "563d06f1-87eb-402d-b052-71404f9a7fb7",
   "metadata": {},
   "outputs": [],
   "source": [
    "import pandas as pd\n",
    "from spotipy.oauth2 import SpotifyClientCredentials\n",
    "import spotipy\n",
    "from tqdm import tqdm\n",
    "from concurrent.futures import ThreadPoolExecutor, as_completed\n",
    "import time\n",
    "import json\n",
    "\n",
    "# Spotify credentials (replace with your values)\n",
    "client_id = \"d9b707a45cde4336ac30cf6fa156ff08\"\n",
    "client_secret = \"e2f9a8ae1e274a49ab10cda4351f49a3\"\n",
    "\n",
    "# Auth\n",
    "auth_manager = SpotifyClientCredentials(client_id=client_id, client_secret=client_secret)\n",
    "sp = spotipy.Spotify(auth_manager=auth_manager)\n",
    "\n",
    "# Load dataset\n",
    "df = pd.read_csv(\"final_music_data.csv\")\n",
    "unique_songs = df[['name', 'artists']].drop_duplicates()\n",
    "\n",
    "# Convert to list of tuples\n",
    "songs_list = list(unique_songs.itertuples(index=False, name=None))\n",
    "\n",
    "# For storing results\n",
    "image_lookup = {}\n",
    "\n",
    "# Fetch function\n",
    "def fetch_art(song_tuple):\n",
    "    name, artist = song_tuple\n",
    "    query = f\"track:{name} artist:{artist}\"\n",
    "    try:\n",
    "        results = sp.search(q=query, type='track', limit=1)\n",
    "        items = results['tracks']['items']\n",
    "        if items:\n",
    "            return (song_tuple, items[0]['album']['images'][0]['url'])\n",
    "    except:\n",
    "        pass\n",
    "    return (song_tuple, \"\")\n",
    "\n",
    "# Run in threads\n",
    "print(\"⚡ Fetching with threads...\")\n",
    "\n",
    "with ThreadPoolExecutor(max_workers=12) as executor:\n",
    "    futures = [executor.submit(fetch_art, song) for song in songs_list]\n",
    "    for future in tqdm(as_completed(futures), total=len(futures)):\n",
    "        key, url = future.result()\n",
    "        image_lookup[key] = url\n",
    "\n",
    "# Apply to full DataFrame\n",
    "df['image_url'] = df.apply(lambda row: image_lookup.get((row['name'], row['artists']), \"\"), axis=1)\n",
    "\n",
    "# Save\n",
    "df.to_csv(\"final_music_data_with_spotify_images_fast.csv\", index=False)\n",
    "print(\"✅ Done! Saved as 'final_music_data_with_spotify_images_fast.csv'\")"
   ]
  },
  {
   "cell_type": "code",
   "execution_count": null,
   "id": "73fdfa3f-5e6d-4a90-911b-cf1ab630a28e",
   "metadata": {},
   "outputs": [],
   "source": []
  }
 ],
 "metadata": {
  "kernelspec": {
   "display_name": "Python 3 (ipykernel)",
   "language": "python",
   "name": "python3"
  },
  "language_info": {
   "codemirror_mode": {
    "name": "ipython",
    "version": 3
   },
   "file_extension": ".py",
   "mimetype": "text/x-python",
   "name": "python",
   "nbconvert_exporter": "python",
   "pygments_lexer": "ipython3",
   "version": "3.12.4"
  }
 },
 "nbformat": 4,
 "nbformat_minor": 5
}
